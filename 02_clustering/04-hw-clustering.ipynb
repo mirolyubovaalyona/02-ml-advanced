{
  "cells": [
    {
      "cell_type": "markdown",
      "metadata": {
        "id": "njQcrguya1Nb"
      },
      "source": [
        "# Кластеризация. Домашка\n",
        "\n",
        "## Совсем простая рекомендательная система\n",
        "\n",
        "На основе оценок аниме, которые ставят пользователи систем типа [MAL](https://myanimelist.net/), можно строить разные кластеры данных:\n",
        "- кластеры похожих людей. Похожие значит, что эти люди ставят похожие рейтинги аниме.\n",
        "- кластеры похожих аниме. Похожие значит что люди оценивают их похоже.\n",
        "- кластеры похожих жанров. Но похожие не в обычном смысле, а в смысле, что люди которые смотрят жанр А любят смотреть жанр Б.\n",
        "\n",
        "и т.д.\n",
        "\n",
        "### Полезная литература\n",
        "\n",
        "- [Лекция 8. Рекомендательный системы](https://www.youtube.com/watch?v=Te_6TqEhyTI&t=4s).\n",
        "- [Туториал по рекомендательным системам](http://nbviewer.jupyter.org/urls/gitlab.7bits.it/isiganov/ml-course/raw/master/week05/theory/05-01-clustering.ipynb?inline=false)\n",
        "- [ODS: Обучение без учителя: PCA и кластеризация](https://habrahabr.ru/company/ods/blog/325654/)\n",
        "- [Интересные алгоритмы кластеризации, часть первая: Affinity propagation](https://habrahabr.ru/post/321216/) и другие статьи цикла\n",
        "- [Глава 7: кластеризация и визуализация. К. В. Воронцов](http://www.machinelearning.ru/wiki/images/6/6d/Voron-ML-1.pdf)\n",
        "- [Документация sklearn.clustering](http://scikit-learn.org/stable/modules/clustering.html)\n",
        "- [K-Means Clustering - The Math of Intelligence. Siraj Raval](https://www.youtube.com/watch?v=9991JlKnFmk) объяснение с программированием KMeans вручную\n",
        "\n"
      ]
    },
    {
      "cell_type": "code",
      "execution_count": 1,
      "metadata": {
        "id": "dR2jz6_Ja1Nd"
      },
      "outputs": [],
      "source": [
        "from sklearn import datasets\n",
        "import pandas as pd\n",
        "import numpy as np\n",
        "from matplotlib import pyplot as plt\n",
        "import seaborn as sns\n",
        "\n",
        "from sklearn.cluster import KMeans\n",
        "\n",
        "from tqdm import tqdm\n",
        "# from tqdm import tqdm_notebook as tqdm # Раскоментируйте если прогресс бар будет странно работать\n",
        "\n",
        "%matplotlib inline\n",
        "\n",
        "# Зафиксируем случайность, чтобы у нас получались одинаковые результаты.\n",
        "np.random.seed(seed=42)"
      ]
    },
    {
      "cell_type": "markdown",
      "metadata": {
        "id": "4UhBfNdTb2gD"
      },
      "source": [
        "## Анализ отзывов аниме\n",
        "\n",
        "Возьмем датасет с рейтингами аниме: https://www.kaggle.com/CooperUnion/anime-recommendations-database  \n",
        "Кстати, вы можете посмотреть kernels - это jupyter notebooks, в которых другие люди тоже делали что-то с этим датасетом.\n",
        "\n",
        "```\n",
        "Anime.csv\n",
        "\n",
        "anime_id - myanimelist.net's unique id identifying an anime.\n",
        "name - full name of anime.\n",
        "genre - comma separated list of genres for this anime.\n",
        "type - movie, TV, OVA, etc.\n",
        "episodes - how many episodes in this show. (1 if movie).\n",
        "rating - average rating out of 10 for this anime.\n",
        "members - number of community members that are in this anime's \"group\".\n",
        "\n",
        "\n",
        "Rating.csv\n",
        "\n",
        "user_id - non identifiable randomly generated user id.\n",
        "anime_id - the anime that this user has rated.\n",
        "rating - rating out of 10 this user has assigned (-1 if the user watched it but didn't assign a rating).\n",
        "```"
      ]
    },
    {
      "cell_type": "code",
      "execution_count": 2,
      "metadata": {
        "id": "MQeq12Wnh11r"
      },
      "outputs": [],
      "source": [
        "colab = False  # True если используте google colab\n",
        "if colab:\n",
        "    from google.colab import drive\n",
        "    drive.mount('/content/drive/')"
      ]
    },
    {
      "cell_type": "code",
      "execution_count": 3,
      "metadata": {
        "id": "vRFEeThr-RBx",
        "tags": []
      },
      "outputs": [
        {
          "name": "stdout",
          "output_type": "stream",
          "text": [
            "(12017, 6)\n"
          ]
        },
        {
          "data": {
            "text/html": [
              "<div>\n",
              "<style scoped>\n",
              "    .dataframe tbody tr th:only-of-type {\n",
              "        vertical-align: middle;\n",
              "    }\n",
              "\n",
              "    .dataframe tbody tr th {\n",
              "        vertical-align: top;\n",
              "    }\n",
              "\n",
              "    .dataframe thead th {\n",
              "        text-align: right;\n",
              "    }\n",
              "</style>\n",
              "<table border=\"1\" class=\"dataframe\">\n",
              "  <thead>\n",
              "    <tr style=\"text-align: right;\">\n",
              "      <th></th>\n",
              "      <th>name</th>\n",
              "      <th>genre</th>\n",
              "      <th>type</th>\n",
              "      <th>episodes</th>\n",
              "      <th>rating</th>\n",
              "      <th>members</th>\n",
              "    </tr>\n",
              "    <tr>\n",
              "      <th>anime_id</th>\n",
              "      <th></th>\n",
              "      <th></th>\n",
              "      <th></th>\n",
              "      <th></th>\n",
              "      <th></th>\n",
              "      <th></th>\n",
              "    </tr>\n",
              "  </thead>\n",
              "  <tbody>\n",
              "    <tr>\n",
              "      <th>32281</th>\n",
              "      <td>Kimi no Na wa.</td>\n",
              "      <td>Drama, Romance, School, Supernatural</td>\n",
              "      <td>Movie</td>\n",
              "      <td>1</td>\n",
              "      <td>9.37</td>\n",
              "      <td>200630</td>\n",
              "    </tr>\n",
              "    <tr>\n",
              "      <th>5114</th>\n",
              "      <td>Fullmetal Alchemist: Brotherhood</td>\n",
              "      <td>Action, Adventure, Drama, Fantasy, Magic, Mili...</td>\n",
              "      <td>TV</td>\n",
              "      <td>64</td>\n",
              "      <td>9.26</td>\n",
              "      <td>793665</td>\n",
              "    </tr>\n",
              "    <tr>\n",
              "      <th>28977</th>\n",
              "      <td>Gintama°</td>\n",
              "      <td>Action, Comedy, Historical, Parody, Samurai, S...</td>\n",
              "      <td>TV</td>\n",
              "      <td>51</td>\n",
              "      <td>9.25</td>\n",
              "      <td>114262</td>\n",
              "    </tr>\n",
              "    <tr>\n",
              "      <th>9253</th>\n",
              "      <td>Steins;Gate</td>\n",
              "      <td>Sci-Fi, Thriller</td>\n",
              "      <td>TV</td>\n",
              "      <td>24</td>\n",
              "      <td>9.17</td>\n",
              "      <td>673572</td>\n",
              "    </tr>\n",
              "    <tr>\n",
              "      <th>9969</th>\n",
              "      <td>Gintama&amp;#039;</td>\n",
              "      <td>Action, Comedy, Historical, Parody, Samurai, S...</td>\n",
              "      <td>TV</td>\n",
              "      <td>51</td>\n",
              "      <td>9.16</td>\n",
              "      <td>151266</td>\n",
              "    </tr>\n",
              "  </tbody>\n",
              "</table>\n",
              "</div>"
            ],
            "text/plain": [
              "                                      name  \\\n",
              "anime_id                                     \n",
              "32281                       Kimi no Na wa.   \n",
              "5114      Fullmetal Alchemist: Brotherhood   \n",
              "28977                             Gintama°   \n",
              "9253                           Steins;Gate   \n",
              "9969                         Gintama&#039;   \n",
              "\n",
              "                                                      genre   type episodes  \\\n",
              "anime_id                                                                      \n",
              "32281                  Drama, Romance, School, Supernatural  Movie        1   \n",
              "5114      Action, Adventure, Drama, Fantasy, Magic, Mili...     TV       64   \n",
              "28977     Action, Comedy, Historical, Parody, Samurai, S...     TV       51   \n",
              "9253                                       Sci-Fi, Thriller     TV       24   \n",
              "9969      Action, Comedy, Historical, Parody, Samurai, S...     TV       51   \n",
              "\n",
              "          rating  members  \n",
              "anime_id                   \n",
              "32281       9.37   200630  \n",
              "5114        9.26   793665  \n",
              "28977       9.25   114262  \n",
              "9253        9.17   673572  \n",
              "9969        9.16   151266  "
            ]
          },
          "execution_count": 3,
          "metadata": {},
          "output_type": "execute_result"
        }
      ],
      "source": [
        "if colab:\n",
        "    anime = pd.read_csv('/content/drive/My Drive/Data/anime/anime.csv.zip', index_col='anime_id')\n",
        "else:\n",
        "    anime = pd.read_csv('../data/anime/anime.csv.zip', index_col='anime_id')\n",
        "anime.dropna(inplace=True)\n",
        "print(anime.shape)\n",
        "anime.head()"
      ]
    },
    {
      "cell_type": "code",
      "execution_count": 4,
      "metadata": {
        "id": "c9VKgQNV-VKE"
      },
      "outputs": [
        {
          "data": {
            "text/html": [
              "<div>\n",
              "<style scoped>\n",
              "    .dataframe tbody tr th:only-of-type {\n",
              "        vertical-align: middle;\n",
              "    }\n",
              "\n",
              "    .dataframe tbody tr th {\n",
              "        vertical-align: top;\n",
              "    }\n",
              "\n",
              "    .dataframe thead th {\n",
              "        text-align: right;\n",
              "    }\n",
              "</style>\n",
              "<table border=\"1\" class=\"dataframe\">\n",
              "  <thead>\n",
              "    <tr style=\"text-align: right;\">\n",
              "      <th></th>\n",
              "      <th>user_id</th>\n",
              "      <th>anime_id</th>\n",
              "      <th>rating</th>\n",
              "    </tr>\n",
              "  </thead>\n",
              "  <tbody>\n",
              "    <tr>\n",
              "      <th>0</th>\n",
              "      <td>1</td>\n",
              "      <td>20</td>\n",
              "      <td>-1</td>\n",
              "    </tr>\n",
              "    <tr>\n",
              "      <th>1</th>\n",
              "      <td>1</td>\n",
              "      <td>24</td>\n",
              "      <td>-1</td>\n",
              "    </tr>\n",
              "    <tr>\n",
              "      <th>2</th>\n",
              "      <td>1</td>\n",
              "      <td>79</td>\n",
              "      <td>-1</td>\n",
              "    </tr>\n",
              "    <tr>\n",
              "      <th>3</th>\n",
              "      <td>1</td>\n",
              "      <td>226</td>\n",
              "      <td>-1</td>\n",
              "    </tr>\n",
              "    <tr>\n",
              "      <th>4</th>\n",
              "      <td>1</td>\n",
              "      <td>241</td>\n",
              "      <td>-1</td>\n",
              "    </tr>\n",
              "    <tr>\n",
              "      <th>...</th>\n",
              "      <td>...</td>\n",
              "      <td>...</td>\n",
              "      <td>...</td>\n",
              "    </tr>\n",
              "    <tr>\n",
              "      <th>7813732</th>\n",
              "      <td>73515</td>\n",
              "      <td>16512</td>\n",
              "      <td>7</td>\n",
              "    </tr>\n",
              "    <tr>\n",
              "      <th>7813733</th>\n",
              "      <td>73515</td>\n",
              "      <td>17187</td>\n",
              "      <td>9</td>\n",
              "    </tr>\n",
              "    <tr>\n",
              "      <th>7813734</th>\n",
              "      <td>73515</td>\n",
              "      <td>22145</td>\n",
              "      <td>10</td>\n",
              "    </tr>\n",
              "    <tr>\n",
              "      <th>7813735</th>\n",
              "      <td>73516</td>\n",
              "      <td>790</td>\n",
              "      <td>9</td>\n",
              "    </tr>\n",
              "    <tr>\n",
              "      <th>7813736</th>\n",
              "      <td>73516</td>\n",
              "      <td>8074</td>\n",
              "      <td>9</td>\n",
              "    </tr>\n",
              "  </tbody>\n",
              "</table>\n",
              "<p>7813737 rows × 3 columns</p>\n",
              "</div>"
            ],
            "text/plain": [
              "         user_id  anime_id  rating\n",
              "0              1        20      -1\n",
              "1              1        24      -1\n",
              "2              1        79      -1\n",
              "3              1       226      -1\n",
              "4              1       241      -1\n",
              "...          ...       ...     ...\n",
              "7813732    73515     16512       7\n",
              "7813733    73515     17187       9\n",
              "7813734    73515     22145      10\n",
              "7813735    73516       790       9\n",
              "7813736    73516      8074       9\n",
              "\n",
              "[7813737 rows x 3 columns]"
            ]
          },
          "execution_count": 4,
          "metadata": {},
          "output_type": "execute_result"
        }
      ],
      "source": [
        "if colab:\n",
        "    ratings = pd.read_csv('/content/drive/My Drive/Data/anime/rating.csv.zip')\n",
        "else:\n",
        "    ratings = pd.read_csv('../data/anime/rating.csv.zip')\n",
        "ratings"
      ]
    },
    {
      "cell_type": "markdown",
      "metadata": {
        "id": "h338V2Lwb2gj"
      },
      "source": [
        "Датасет очень большой и грязный. Некоторые действия с этим датасетом будут требовать много оперативной памяти(>6 Гб).\n",
        "\n",
        "## Подготовка данных"
      ]
    },
    {
      "cell_type": "markdown",
      "metadata": {
        "id": "e839HZu_b2gk"
      },
      "source": [
        "Во первых, в датасете есть много -1. Оценки -1 и 0 на MAL нет. \n",
        "\n",
        "Здесь -1 означает что человек посмотрел это аниме, но не выставил оценку.\n",
        "\n",
        "Такие записи из `ratings` стоит выбросить, так как в нашем случае они особо не помогут. \n",
        "\n",
        "Но и не помешают серьезно. Если хотите оставьте их, только нужно заменить все -1 на 0, так как дальше нам понадобится посчитать среднее, а -1 или 0, в отличие от `np.nan`, повлияют на среднее. \n",
        "\n",
        "### 1. Избавьтесь от -1"
      ]
    },
    {
      "cell_type": "code",
      "execution_count": 20,
      "metadata": {
        "id": "pCRsQ18wb2gl"
      },
      "outputs": [
        {
          "data": {
            "text/html": [
              "<div>\n",
              "<style scoped>\n",
              "    .dataframe tbody tr th:only-of-type {\n",
              "        vertical-align: middle;\n",
              "    }\n",
              "\n",
              "    .dataframe tbody tr th {\n",
              "        vertical-align: top;\n",
              "    }\n",
              "\n",
              "    .dataframe thead th {\n",
              "        text-align: right;\n",
              "    }\n",
              "</style>\n",
              "<table border=\"1\" class=\"dataframe\">\n",
              "  <thead>\n",
              "    <tr style=\"text-align: right;\">\n",
              "      <th></th>\n",
              "      <th>user_id</th>\n",
              "      <th>anime_id</th>\n",
              "      <th>rating</th>\n",
              "    </tr>\n",
              "  </thead>\n",
              "  <tbody>\n",
              "    <tr>\n",
              "      <th>0</th>\n",
              "      <td>1</td>\n",
              "      <td>20</td>\n",
              "      <td>NaN</td>\n",
              "    </tr>\n",
              "    <tr>\n",
              "      <th>1</th>\n",
              "      <td>1</td>\n",
              "      <td>24</td>\n",
              "      <td>NaN</td>\n",
              "    </tr>\n",
              "    <tr>\n",
              "      <th>2</th>\n",
              "      <td>1</td>\n",
              "      <td>79</td>\n",
              "      <td>NaN</td>\n",
              "    </tr>\n",
              "    <tr>\n",
              "      <th>3</th>\n",
              "      <td>1</td>\n",
              "      <td>226</td>\n",
              "      <td>NaN</td>\n",
              "    </tr>\n",
              "    <tr>\n",
              "      <th>4</th>\n",
              "      <td>1</td>\n",
              "      <td>241</td>\n",
              "      <td>NaN</td>\n",
              "    </tr>\n",
              "    <tr>\n",
              "      <th>...</th>\n",
              "      <td>...</td>\n",
              "      <td>...</td>\n",
              "      <td>...</td>\n",
              "    </tr>\n",
              "    <tr>\n",
              "      <th>7813732</th>\n",
              "      <td>73515</td>\n",
              "      <td>16512</td>\n",
              "      <td>7.0</td>\n",
              "    </tr>\n",
              "    <tr>\n",
              "      <th>7813733</th>\n",
              "      <td>73515</td>\n",
              "      <td>17187</td>\n",
              "      <td>9.0</td>\n",
              "    </tr>\n",
              "    <tr>\n",
              "      <th>7813734</th>\n",
              "      <td>73515</td>\n",
              "      <td>22145</td>\n",
              "      <td>10.0</td>\n",
              "    </tr>\n",
              "    <tr>\n",
              "      <th>7813735</th>\n",
              "      <td>73516</td>\n",
              "      <td>790</td>\n",
              "      <td>9.0</td>\n",
              "    </tr>\n",
              "    <tr>\n",
              "      <th>7813736</th>\n",
              "      <td>73516</td>\n",
              "      <td>8074</td>\n",
              "      <td>9.0</td>\n",
              "    </tr>\n",
              "  </tbody>\n",
              "</table>\n",
              "<p>7813737 rows × 3 columns</p>\n",
              "</div>"
            ],
            "text/plain": [
              "         user_id  anime_id  rating\n",
              "0              1        20     NaN\n",
              "1              1        24     NaN\n",
              "2              1        79     NaN\n",
              "3              1       226     NaN\n",
              "4              1       241     NaN\n",
              "...          ...       ...     ...\n",
              "7813732    73515     16512     7.0\n",
              "7813733    73515     17187     9.0\n",
              "7813734    73515     22145    10.0\n",
              "7813735    73516       790     9.0\n",
              "7813736    73516      8074     9.0\n",
              "\n",
              "[7813737 rows x 3 columns]"
            ]
          },
          "execution_count": 20,
          "metadata": {},
          "output_type": "execute_result"
        }
      ],
      "source": [
        "###  Ваш код  ###\n",
        "\n",
        "ratings['rating'] =  ratings['rating']. replace (-1, np.nan)\n",
        "ratings"
      ]
    },
    {
      "cell_type": "markdown",
      "metadata": {
        "id": "Cm0qReHpb2gq"
      },
      "source": [
        "## Критерий Шавене (Chauvenet)\n",
        "\n",
        "[Теория](https://www.youtube.com/watch?v=Fy9pHH3ykPE&list=PLLyuiBK_HOLPfRVN6r9305FKXq1ravbbX)\n",
        "\n",
        "$$ erfc(\\frac{|P_i - mean(P)|}{S_p})  < \\frac{1}{2n}$$\n",
        "\n",
        "$ S_p - отклонение $\n",
        "\n",
        "Готовой реализации в библиотеках нет, поэтому придется написать самим(но если найдете можете использовать).\n",
        "\n",
        "### 2. Напишите функцию, которая принимает на вход массив, считает критерий Шавене и возвращает булеву маску.\n",
        "\n",
        "Функция `erfc` есть в sklearn. "
      ]
    },
    {
      "cell_type": "code",
      "execution_count": 40,
      "metadata": {
        "id": "SRPB9ZGVb2gr"
      },
      "outputs": [
        {
          "name": "stdout",
          "output_type": "stream",
          "text": [
            "[3.67279567e+04 8.90907210e+03 7.80849695e+00]\n",
            "[2.09979448e+04 8.88394907e+03 1.57249591e+00]\n",
            "user_id     7813737\n",
            "anime_id    7813737\n",
            "rating      6337241\n",
            "dtype: int64\n",
            "rating\n",
            "False    7797088\n",
            "True       16649\n",
            "Name: count, dtype: int64\n"
          ]
        },
        {
          "data": {
            "text/html": [
              "<div>\n",
              "<style scoped>\n",
              "    .dataframe tbody tr th:only-of-type {\n",
              "        vertical-align: middle;\n",
              "    }\n",
              "\n",
              "    .dataframe tbody tr th {\n",
              "        vertical-align: top;\n",
              "    }\n",
              "\n",
              "    .dataframe thead th {\n",
              "        text-align: right;\n",
              "    }\n",
              "</style>\n",
              "<table border=\"1\" class=\"dataframe\">\n",
              "  <thead>\n",
              "    <tr style=\"text-align: right;\">\n",
              "      <th></th>\n",
              "      <th>user_id</th>\n",
              "      <th>anime_id</th>\n",
              "      <th>rating</th>\n",
              "    </tr>\n",
              "  </thead>\n",
              "  <tbody>\n",
              "    <tr>\n",
              "      <th>0</th>\n",
              "      <td>False</td>\n",
              "      <td>False</td>\n",
              "      <td>False</td>\n",
              "    </tr>\n",
              "    <tr>\n",
              "      <th>1</th>\n",
              "      <td>False</td>\n",
              "      <td>False</td>\n",
              "      <td>False</td>\n",
              "    </tr>\n",
              "    <tr>\n",
              "      <th>2</th>\n",
              "      <td>False</td>\n",
              "      <td>False</td>\n",
              "      <td>False</td>\n",
              "    </tr>\n",
              "    <tr>\n",
              "      <th>3</th>\n",
              "      <td>False</td>\n",
              "      <td>False</td>\n",
              "      <td>False</td>\n",
              "    </tr>\n",
              "    <tr>\n",
              "      <th>4</th>\n",
              "      <td>False</td>\n",
              "      <td>False</td>\n",
              "      <td>False</td>\n",
              "    </tr>\n",
              "    <tr>\n",
              "      <th>...</th>\n",
              "      <td>...</td>\n",
              "      <td>...</td>\n",
              "      <td>...</td>\n",
              "    </tr>\n",
              "    <tr>\n",
              "      <th>7813732</th>\n",
              "      <td>False</td>\n",
              "      <td>False</td>\n",
              "      <td>False</td>\n",
              "    </tr>\n",
              "    <tr>\n",
              "      <th>7813733</th>\n",
              "      <td>False</td>\n",
              "      <td>False</td>\n",
              "      <td>False</td>\n",
              "    </tr>\n",
              "    <tr>\n",
              "      <th>7813734</th>\n",
              "      <td>False</td>\n",
              "      <td>False</td>\n",
              "      <td>False</td>\n",
              "    </tr>\n",
              "    <tr>\n",
              "      <th>7813735</th>\n",
              "      <td>False</td>\n",
              "      <td>False</td>\n",
              "      <td>False</td>\n",
              "    </tr>\n",
              "    <tr>\n",
              "      <th>7813736</th>\n",
              "      <td>False</td>\n",
              "      <td>False</td>\n",
              "      <td>False</td>\n",
              "    </tr>\n",
              "  </tbody>\n",
              "</table>\n",
              "<p>7813737 rows × 3 columns</p>\n",
              "</div>"
            ],
            "text/plain": [
              "         user_id  anime_id  rating\n",
              "0          False     False   False\n",
              "1          False     False   False\n",
              "2          False     False   False\n",
              "3          False     False   False\n",
              "4          False     False   False\n",
              "...          ...       ...     ...\n",
              "7813732    False     False   False\n",
              "7813733    False     False   False\n",
              "7813734    False     False   False\n",
              "7813735    False     False   False\n",
              "7813736    False     False   False\n",
              "\n",
              "[7813737 rows x 3 columns]"
            ]
          },
          "execution_count": 40,
          "metadata": {},
          "output_type": "execute_result"
        }
      ],
      "source": [
        "from scipy.special import erfc\n",
        "\n",
        "def chauvenet(array):\n",
        "    \n",
        "    mean = np.nanmean(array, axis=0)\n",
        "    column_deviations = np.nanstd(array, axis=0) \n",
        "    num_non_nan = np.sum(~np.isnan(array), axis=0)\n",
        "    mask = erfc(abs(array - mean) / column_deviations ) < ( 1 / (2 * num_non_nan))\n",
        "    \n",
        "    print(mean)\n",
        "    print(column_deviations)\n",
        "    print(num_non_nan)\n",
        " \n",
        " \n",
        "    return mask\n",
        "\n",
        "mask = chauvenet(ratings)\n",
        "\n",
        "print(mask.rating.value_counts())\n",
        "\n",
        "mask"
      ]
    },
    {
      "cell_type": "markdown",
      "metadata": {
        "id": "YibqZ90_b2gv"
      },
      "source": [
        "Для начала давайте посмотрим на таблицу рейтингов.\n",
        "\n",
        "### 3. Сделайте новую таблицу `count_reviews` где индексами будет `user_id` а значением будет количество просмотренных им аниме.\n",
        "\n",
        "\n",
        "**Hint** Используйте [groupby](https://pandas.pydata.org/pandas-docs/stable/reference/api/pandas.DataFrame.groupby.html) и [count](https://pandas.pydata.org/pandas-docs/stable/reference/api/pandas.DataFrame.count.html)."
      ]
    },
    {
      "cell_type": "code",
      "execution_count": 76,
      "metadata": {
        "id": "M3XQcmqvb2gw"
      },
      "outputs": [
        {
          "data": {
            "text/html": [
              "<div>\n",
              "<style scoped>\n",
              "    .dataframe tbody tr th:only-of-type {\n",
              "        vertical-align: middle;\n",
              "    }\n",
              "\n",
              "    .dataframe tbody tr th {\n",
              "        vertical-align: top;\n",
              "    }\n",
              "\n",
              "    .dataframe thead th {\n",
              "        text-align: right;\n",
              "    }\n",
              "</style>\n",
              "<table border=\"1\" class=\"dataframe\">\n",
              "  <thead>\n",
              "    <tr style=\"text-align: right;\">\n",
              "      <th></th>\n",
              "      <th>count</th>\n",
              "    </tr>\n",
              "    <tr>\n",
              "      <th>user_id</th>\n",
              "      <th></th>\n",
              "    </tr>\n",
              "  </thead>\n",
              "  <tbody>\n",
              "    <tr>\n",
              "      <th>1</th>\n",
              "      <td>153</td>\n",
              "    </tr>\n",
              "    <tr>\n",
              "      <th>2</th>\n",
              "      <td>3</td>\n",
              "    </tr>\n",
              "    <tr>\n",
              "      <th>3</th>\n",
              "      <td>94</td>\n",
              "    </tr>\n",
              "    <tr>\n",
              "      <th>4</th>\n",
              "      <td>52</td>\n",
              "    </tr>\n",
              "    <tr>\n",
              "      <th>5</th>\n",
              "      <td>467</td>\n",
              "    </tr>\n",
              "    <tr>\n",
              "      <th>...</th>\n",
              "      <td>...</td>\n",
              "    </tr>\n",
              "    <tr>\n",
              "      <th>73512</th>\n",
              "      <td>13</td>\n",
              "    </tr>\n",
              "    <tr>\n",
              "      <th>73513</th>\n",
              "      <td>33</td>\n",
              "    </tr>\n",
              "    <tr>\n",
              "      <th>73514</th>\n",
              "      <td>1</td>\n",
              "    </tr>\n",
              "    <tr>\n",
              "      <th>73515</th>\n",
              "      <td>196</td>\n",
              "    </tr>\n",
              "    <tr>\n",
              "      <th>73516</th>\n",
              "      <td>2</td>\n",
              "    </tr>\n",
              "  </tbody>\n",
              "</table>\n",
              "<p>73515 rows × 1 columns</p>\n",
              "</div>"
            ],
            "text/plain": [
              "         count\n",
              "user_id       \n",
              "1          153\n",
              "2            3\n",
              "3           94\n",
              "4           52\n",
              "5          467\n",
              "...        ...\n",
              "73512       13\n",
              "73513       33\n",
              "73514        1\n",
              "73515      196\n",
              "73516        2\n",
              "\n",
              "[73515 rows x 1 columns]"
            ]
          },
          "execution_count": 76,
          "metadata": {},
          "output_type": "execute_result"
        }
      ],
      "source": [
        "###  Ваш код  ### \n",
        "\n",
        "count_reviews = ratings.groupby('user_id')['anime_id'].apply ( lambda x: ( x!=0 ).sum()).reset_index(name='count')\n",
        "\n",
        "count_reviews = count_reviews.set_index('user_id')\n",
        "\n",
        "count_reviews\n"
      ]
    },
    {
      "cell_type": "markdown",
      "metadata": {
        "id": "ZCtMNEeRb2g0"
      },
      "source": [
        "### 4. Используйте функцию chauvenet и найдите все выбросы.\n",
        "\n",
        "**Hint:** Так как chauvenet возвращает маску используйте оператор `[]` (подробнее смотрите в 1 теории по pandas и numpy).\n",
        "\n",
        "**Hint:** Используйте [values](https://pandas.pydata.org/pandas-docs/stable/reference/api/pandas.DataFrame.values.html)."
      ]
    },
    {
      "cell_type": "code",
      "execution_count": 79,
      "metadata": {
        "id": "dN5Q6T87b2g2"
      },
      "outputs": [
        {
          "name": "stdout",
          "output_type": "stream",
          "text": [
            "[106.28765558]\n",
            "[153.085517]\n",
            "count    73515\n",
            "dtype: int64\n"
          ]
        },
        {
          "data": {
            "text/html": [
              "<div>\n",
              "<style scoped>\n",
              "    .dataframe tbody tr th:only-of-type {\n",
              "        vertical-align: middle;\n",
              "    }\n",
              "\n",
              "    .dataframe tbody tr th {\n",
              "        vertical-align: top;\n",
              "    }\n",
              "\n",
              "    .dataframe thead th {\n",
              "        text-align: right;\n",
              "    }\n",
              "</style>\n",
              "<table border=\"1\" class=\"dataframe\">\n",
              "  <thead>\n",
              "    <tr style=\"text-align: right;\">\n",
              "      <th></th>\n",
              "      <th>count</th>\n",
              "    </tr>\n",
              "    <tr>\n",
              "      <th>user_id</th>\n",
              "      <th></th>\n",
              "    </tr>\n",
              "  </thead>\n",
              "  <tbody>\n",
              "    <tr>\n",
              "      <th>35595</th>\n",
              "      <td>594.0</td>\n",
              "    </tr>\n",
              "    <tr>\n",
              "      <th>40547</th>\n",
              "      <td>594.0</td>\n",
              "    </tr>\n",
              "    <tr>\n",
              "      <th>52366</th>\n",
              "      <td>594.0</td>\n",
              "    </tr>\n",
              "    <tr>\n",
              "      <th>52420</th>\n",
              "      <td>594.0</td>\n",
              "    </tr>\n",
              "    <tr>\n",
              "      <th>21044</th>\n",
              "      <td>594.0</td>\n",
              "    </tr>\n",
              "    <tr>\n",
              "      <th>...</th>\n",
              "      <td>...</td>\n",
              "    </tr>\n",
              "    <tr>\n",
              "      <th>59643</th>\n",
              "      <td>2633.0</td>\n",
              "    </tr>\n",
              "    <tr>\n",
              "      <th>57620</th>\n",
              "      <td>2702.0</td>\n",
              "    </tr>\n",
              "    <tr>\n",
              "      <th>53698</th>\n",
              "      <td>2905.0</td>\n",
              "    </tr>\n",
              "    <tr>\n",
              "      <th>42635</th>\n",
              "      <td>3747.0</td>\n",
              "    </tr>\n",
              "    <tr>\n",
              "      <th>48766</th>\n",
              "      <td>10227.0</td>\n",
              "    </tr>\n",
              "  </tbody>\n",
              "</table>\n",
              "<p>1171 rows × 1 columns</p>\n",
              "</div>"
            ],
            "text/plain": [
              "           count\n",
              "user_id         \n",
              "35595      594.0\n",
              "40547      594.0\n",
              "52366      594.0\n",
              "52420      594.0\n",
              "21044      594.0\n",
              "...          ...\n",
              "59643     2633.0\n",
              "57620     2702.0\n",
              "53698     2905.0\n",
              "42635     3747.0\n",
              "48766    10227.0\n",
              "\n",
              "[1171 rows x 1 columns]"
            ]
          },
          "execution_count": 79,
          "metadata": {},
          "output_type": "execute_result"
        }
      ],
      "source": [
        "###  Ваш код  ### \n",
        "outlier_users =  count_reviews[chauvenet(count_reviews)]\n",
        "outlier_users = outlier_users.dropna (how='all')\n",
        "outlier_users = outlier_users.sort_values(by='count')\n",
        "outlier_users\n"
      ]
    },
    {
      "cell_type": "markdown",
      "metadata": {
        "id": "OMHGjMnFb2g5"
      },
      "source": [
        "### 5. Ответьте на вопросы\n",
        "\n",
        "#### Кого критерий посчитал выбросом?\n",
        "\n",
        "    Пользователей с количествои просмотренных аниме больше или равно 594\n",
        "\n",
        "#### Почему критерий посчитал их выбросом?\n",
        "\n",
        "    Остальные пользователи посмотрели сильно меньше\n",
        "\n",
        "#### Нужна ли им вообще рекомендательная система?\n",
        "\n",
        "    Да, нужна. Рекомендации могут помочь пользователям открывать новые аниме, которые им могут понравиться, на основе их предпочтений, оценок и просмотров. \n"
      ]
    },
    {
      "cell_type": "markdown",
      "metadata": {
        "id": "jTlAVwKjb2g6"
      },
      "source": [
        "**Ответы:**"
      ]
    },
    {
      "cell_type": "code",
      "execution_count": 65,
      "metadata": {
        "id": "vU3CF5oqb2g6"
      },
      "outputs": [
        {
          "data": {
            "text/plain": [
              "count    594.0\n",
              "dtype: float64"
            ]
          },
          "execution_count": 65,
          "metadata": {},
          "output_type": "execute_result"
        }
      ],
      "source": [
        "bad_user_threshold = outlier_users.min()\n",
        "bad_user_threshold"
      ]
    },
    {
      "cell_type": "markdown",
      "metadata": {
        "id": "Uirpa-xWb2g9"
      },
      "source": [
        "Если все было правильно `bad_user_threshold` больше 500. \n",
        "\n",
        "Нужно выбросить всех людей у которых число просмотренных аниме больше или равно `bad_user_threshold`.\n",
        "\n",
        "### 6. Переименнуйте столбец из таблицы `count_reviews` в `count_reviews` (он там единственный). Соедините `count_reviews` и `ratings` по столбцу `user_id`. И оставьте в `ratings` только тех кто посмотрел меньше `bad_user_threshold`  "
      ]
    },
    {
      "cell_type": "code",
      "execution_count": null,
      "metadata": {
        "id": "DlC15OSib2g-"
      },
      "outputs": [],
      "source": [
        "###  Ваш код  ### \n",
        "ratings"
      ]
    },
    {
      "cell_type": "markdown",
      "metadata": {
        "id": "-oeDGjoVb2hA"
      },
      "source": [
        "Осталось все равно слишком много пользователей.\n",
        "\n",
        "### 7. Удалите из таблицы всех юзеров, у которых количество просмотров меньше медианного значения. То есть мы удалим половину юзеров.\n",
        "\n",
        "Так как они посмотрели слишком мало, чтобы мы на них могли основывать свои советы."
      ]
    },
    {
      "cell_type": "code",
      "execution_count": null,
      "metadata": {
        "id": "8Z1mmi1vb2hB"
      },
      "outputs": [],
      "source": [
        "###  Ваш код  ### \n",
        "ratings"
      ]
    },
    {
      "cell_type": "code",
      "execution_count": null,
      "metadata": {
        "id": "psfK_Z_Nb2hE"
      },
      "outputs": [],
      "source": [
        "# Удалим столбец с просмотрами чтобы не мешал.\n",
        "\n",
        "ratings = ratings.drop(columns=['count_reviews'])"
      ]
    },
    {
      "cell_type": "markdown",
      "metadata": {
        "id": "pM5IUARab2hG"
      },
      "source": [
        "Теперь рассмотрим таблицу `anime`. \n",
        "\n",
        "\n",
        "Так же применим критерий шавене.\n",
        "\n",
        "Искать выбросы стоит по столбцу `rating` или по `members` или по обоим сразу.\n",
        "\n",
        "### 8. Используйте функцию chauvenet и найдите все выбросы среди аниме. И удалите их.\n",
        "\n",
        "**Hint** Используйте [drop](https://pandas.pydata.org/pandas-docs/stable/reference/api/pandas.DataFrame.drop.html) и [index](https://pandas.pydata.org/pandas-docs/stable/reference/api/pandas.DataFrame.index.html)"
      ]
    },
    {
      "cell_type": "code",
      "execution_count": null,
      "metadata": {
        "id": "yRMPTUkib2hH"
      },
      "outputs": [],
      "source": [
        "###  Ваш код  ### \n",
        "outlier_anime"
      ]
    },
    {
      "cell_type": "markdown",
      "metadata": {
        "id": "MPL12FNQb2hK"
      },
      "source": [
        "### 9. Ответье на вопросы\n",
        "\n",
        "#### Что критерий посчитал выбросом? \n",
        "\n",
        "#### Почему критерий посчитал их выбросом? \n",
        "\n",
        "#### Можем ли мы как то использовать эти аниме в нашей рекомендательное системе? "
      ]
    },
    {
      "cell_type": "markdown",
      "metadata": {
        "id": "WMz-EvSFb2hL"
      },
      "source": [
        "**Ответы:**"
      ]
    },
    {
      "cell_type": "markdown",
      "metadata": {
        "id": "-MCsZX8rb2hL"
      },
      "source": [
        "## Кластеризация по жанрам"
      ]
    },
    {
      "cell_type": "markdown",
      "metadata": {
        "id": "MHZyEqKl5zgm"
      },
      "source": [
        "Данные о жанре хранятся как строка, разделенная запятой `,` . Но нам нужны сами жанры. Придется поколдовать и разделить эту строку на элементы. "
      ]
    },
    {
      "cell_type": "code",
      "execution_count": null,
      "metadata": {
        "id": "x_2Nragqa1N2"
      },
      "outputs": [],
      "source": [
        "from itertools import chain\n",
        "'''\n",
        "Нам нужна функция flatmap.\n",
        "Flatmap получает на вход список, на каждом элементе вызывает функцию f, которая возвращает другой список.\n",
        "В результате получается список списков. В конфе происходит flatten - уплощение списка скписков в один список.\n",
        "'''\n",
        "def flatmap(f, items):\n",
        "    return chain.from_iterable(map(f, items))\n",
        "\n",
        "# пример использования\n",
        "list(flatmap(lambda x: [0, x , x*x], [1,2,3,4,5]))\n",
        "# Первый шаг: [[0, 1, 1], [0, 2, 4], [0, 3, 9], [0, 4, 16], [0, 5, 25]]"
      ]
    },
    {
      "cell_type": "code",
      "execution_count": null,
      "metadata": {
        "id": "JMm-sCdXa1OF",
        "tags": []
      },
      "outputs": [],
      "source": [
        "# создаем функцию, которая просто разбивает строку по символу \", \" на подстроки\n",
        "def genre_splitter(genre_names):\n",
        "    return genre_names.split(\", \")\n",
        "\n",
        "m_uniq = anime['genre'].unique() # смотрим сколько всего уникальных комбинация genres есть в датасете\n",
        "print(\"m_uniq[0:10] = {}\\nlen= {}\\n\".format(m_uniq[0:10], len(m_uniq))) # как видим комбинаций очень много, так как там все композиции\n",
        "\n",
        "genres = set(flatmap(genre_splitter, m_uniq)) # разбиваем все genres на составные части и генерируем один массив из всех жанров. Строим по массиву множество уникальных жанров\n",
        "\n",
        "genres = list(genres) # множество превращаем в список\n",
        "print(\"Genres={}\\nlen={}\".format(genres, len(genres)))"
      ]
    },
    {
      "cell_type": "markdown",
      "metadata": {
        "id": "Oa6hsGvs6Plt"
      },
      "source": [
        "### 10. Создадим новую таблицу, где в колонках будет жанр, в строках аниме, а в ячейках 1 если у фильма есть этот жанр и 0 в противном случае.\n",
        "\n",
        "Такой формат таблиц называтеся one-hot-encoding. Только в нашем случае в каждой строке будет не одна единица, а несколько, так как у аниме как правило несолько жанров.\n",
        "\n",
        "Уточнение: жанры должны быть индексами столбцов (columns), а id аниме - индексами строк (index)"
      ]
    },
    {
      "cell_type": "code",
      "execution_count": null,
      "metadata": {
        "id": "f4kWGYLva1OI",
        "tags": []
      },
      "outputs": [],
      "source": [
        "###  Ваш код  ### "
      ]
    },
    {
      "cell_type": "markdown",
      "metadata": {
        "id": "r33UeY26a1OL"
      },
      "source": [
        "Итак, у нас есть следующие таблицы:\n",
        "- Жанры аниме - в строчках аниме, в столбцах жанр аниме, а в ячейках 0 или 1.\n",
        "- Рейтинги - в строчках пользователи, в столбцах id аниме и рейтинг\n",
        "\n",
        "Нужно получить другую таблицу, в которой в строках будут пользователи, а в столбцах жанры аниме. А в ячейках средняя оценка жанра этим пользователем.\n",
        "\n",
        "Средняя оценка жанра вычисляется следующим образом: берём все отзывы пользователя. Группируем все его отзывы по жанрам и считаем средний рейтинг, который он ставит аниме с данным жанром.\n",
        "\n",
        "Выполним следущие шаги.\n",
        "\n",
        "### 11. Соединим две таблицы:<br>\n",
        "1. жанры по каждому аниме<br>\n",
        "2. оценки аниме от людей. Кстати, один человек мог посмотреть 1 аниме или 100, но не все!<br>\n",
        "\n",
        "Получим таблицу, где строк будет N*M штук, где N - количество юзеров и M - количество аниме"
      ]
    },
    {
      "cell_type": "code",
      "execution_count": null,
      "metadata": {
        "id": "-UZ89H8ra1OM"
      },
      "outputs": [],
      "source": [
        "###  Ваш код  ### \n",
        "df"
      ]
    },
    {
      "cell_type": "markdown",
      "metadata": {
        "id": "nd5AyQk7a1OP"
      },
      "source": [
        "С такой таблицей `(N*M) * G` вы всё еще не можем работать.  \n",
        "### 12. Сгруппируем строки по пользователям (колонка `userId`).  В группах посчитаем среднюю оценку на жанр. А если пользователь не смотрел фильм, то поставим ему `-1` в соответсвующую ячейку.\n",
        "Чтобы посчитать среднее(mean) без учета непросмотренных аниме замените все `0` на `np.NaN`"
      ]
    },
    {
      "cell_type": "code",
      "execution_count": null,
      "metadata": {
        "id": "NZUl41QBa1OP",
        "tags": []
      },
      "outputs": [],
      "source": [
        "###  Ваш код  ### \n",
        "df.head()"
      ]
    },
    {
      "cell_type": "markdown",
      "metadata": {
        "id": "FQ9UuFn0b2hX"
      },
      "source": [
        "Так как некоторые пользователи не смотрели ничего из некоторых жанров, в данных осталось много `np.NaN`\n",
        "### 13. Заполните все NaN на -1\n",
        "\n",
        "**Hint** [fillna](https://pandas.pydata.org/pandas-docs/stable/reference/api/pandas.DataFrame.fillna.html)"
      ]
    },
    {
      "cell_type": "code",
      "execution_count": null,
      "metadata": {
        "id": "uDoXl9XFb2hY",
        "tags": []
      },
      "outputs": [],
      "source": [
        "###  Ваш код  ### \n",
        "df.head()"
      ]
    },
    {
      "cell_type": "markdown",
      "metadata": {
        "id": "1wo_Sod-a1OT"
      },
      "source": [
        "Прежде чем начать обучать kMeans...\n",
        "\n",
        "### 14. Отмасштабируйте признаки.\n",
        "\n",
        "Как мы знаем по лекции, метрическим алгоритмам, одним из которых и является kMeans, лучше подавать на вход данные одного масштаба.  Этим и занимается метод MinMaxScaler из sklearn.\n",
        "\n",
        "[Документация](https://scikit-learn.org/stable/modules/generated/sklearn.preprocessing.MinMaxScaler.html)\n",
        "\n",
        "Алгоритм его работы:\n",
        "```\n",
        "X_std = (X - X.min(axis=0)) / (X.max(axis=0) - X.min(axis=0))\n",
        "X_scaled = X_std * (max - min) + min\n",
        "```"
      ]
    },
    {
      "cell_type": "code",
      "execution_count": null,
      "metadata": {
        "id": "YOjZgEy1a1OU"
      },
      "outputs": [],
      "source": [
        "###  Ваш код  ### "
      ]
    },
    {
      "cell_type": "markdown",
      "metadata": {
        "id": "FtnFeq5--WYV"
      },
      "source": [
        "### 15.Натренируйте kMeans с 10 кластерами на полученных данных"
      ]
    },
    {
      "cell_type": "code",
      "execution_count": 1,
      "metadata": {
        "id": "5P8wbyKs-2ss"
      },
      "outputs": [],
      "source": [
        "### Ваш код ###"
      ]
    },
    {
      "cell_type": "markdown",
      "metadata": {
        "id": "V9Pn5DMHa1OX"
      },
      "source": [
        "### 16. Нарисуйте на графике центры кластеров нашего датасета оценок фильмов.\n",
        "\n",
        "В нем будет 10 строчек - 10 кластеров. И 43 столбцов - 43 жанров фильмов.\n",
        "\n",
        "Из графика мы поймем какие жанры обычно смотрят вместе. По сути мы получили кластеры предпочтений людей.\n",
        "\n",
        "**Hint** [Heatmap](https://seaborn.pydata.org/generated/seaborn.heatmap.html)"
      ]
    },
    {
      "cell_type": "code",
      "execution_count": null,
      "metadata": {
        "id": "FyGW-7-6a1OY",
        "tags": []
      },
      "outputs": [],
      "source": [
        "###  Ваш код  ### "
      ]
    },
    {
      "cell_type": "markdown",
      "metadata": {
        "id": "f8kEhXm4b2hg"
      },
      "source": [
        "# Как выбрать нужное число кластеров\n",
        "\n",
        "Такие методы как KMeans, Spectral clustering, Ward hierarchical clustering, Agglomerative clustering требуют количество кластеров как параметр. Это так называемый гипер-параметр, и его должен подбирать человек. Но на что человеку опираться при выборе? На некоторый функционал \"качества\"!\n",
        "\n",
        "Вспомним идею кластеризации:\n",
        "- минимизация внутрикластерного расстояния\n",
        "- максимизация межкластерного расстояния\n",
        "\n",
        "Другими словами - кучки кучнее и дальше друг от друга.\n",
        "\n",
        "Логично, что мы хотим, чтобы точки распологались кучно возле центров своих кластеров. Но вот незадача: минимум такого функционала будет достигаться тогда, когда кластеров столько же, сколько и точек (то есть каждая точка – это кластер из одного элемента). Для решения этого вопроса (выбора числа кластеров) часто пользуются такой эвристикой: выбирают то число кластеров, начиная с которого описанный функционал $ J(C) $ падает \"уже не так быстро\". Или более формально: $$ D(k) = \\frac{|J(C_k) - J(C_{k+1})|}{|J(C_{k-1}) - J(C_k)|}  \\rightarrow \\min\\limits_k $$\n",
        "\n",
        "Где, в случае kMeans $$ J(C) = \\sum_{k=1}^K\\sum_{i~\\in~C_k} ||x_i - \\mu_k|| \\rightarrow \\min\\limits_C,$$ - сумма квадратов расстояний от точек до центроидов кластеров, к которым они относятся\n",
        "\n",
        "#### Эта ячейка может выполнятся долго!"
      ]
    },
    {
      "cell_type": "code",
      "execution_count": null,
      "metadata": {
        "id": "DuTFue0rb2hg"
      },
      "outputs": [],
      "source": [
        "inertia = []\n",
        "N = 30\n",
        "for k in tqdm(range(1, N)):\n",
        "    kmeans = KMeans(n_clusters=k).fit(scaler.fit_transform(df))\n",
        "    inertia.append(np.sqrt(kmeans.inertia_))\n",
        "plt.figure(figsize=(10,7))\n",
        "plt.plot(range(1, N), inertia, marker='s');\n",
        "plt.xlabel('$k$')\n",
        "plt.ylabel('$J(C_k)$')"
      ]
    },
    {
      "cell_type": "markdown",
      "metadata": {
        "id": "ulciRrtRb2hi"
      },
      "source": [
        "## Коэффициент силуэта\n",
        "\n",
        "Данный коэффициент не предполагает знания истинных меток объектов, и позволяет оценить качество кластеризации, используя только саму (неразмеченную) выборку и результат кластеризации. \n",
        "\n",
        "Сначала силуэт определяется отдельно для каждого объекта. Обозначим через $a$ - среднее расстояние от данного объекта до объектов из того же кластера, через $b$ - среднее расстояние от данного объекта до объектов из ближайшего кластера (отличного от того, в котором лежит сам объект). Тогда силуэтом данного объекта называется величина: $$s = \\frac{b - a}{\\max(a, b)}.$$ Силуэтом выборки называется средняя величина силуэта объектов данной выборки. Таким образом, силуэт показывает, насколько среднее расстояние до объектов своего кластера отличается от среднего расстояния до объектов других кластеров. Данная величина лежит в диапазоне $[-1, 1]$. Значения, близкие к -1, соответствуют плохим (разрозненным) кластеризациям, значения, близкие к нулю, говорят о том, что кластеры пересекаются и накладываются друг на друга, значения, близкие к 1, соответствуют \"плотным\" четко выделенным кластерам. Таким образом, чем больше силуэт, тем более четко выделены кластеры, и они представляют собой компактные, плотно сгруппированные облака точек.\n",
        "\n",
        "С помощью силуэта можно выбирать оптимальное число кластеров $k$ (если оно заранее неизвестно) - выбирается число кластеров, максимизирующее значение силуэта. В отличие от предыдущих метрик, силуэт зависит от формы кластеров, и достигает больших значений на более выпуклых кластерах, получаемых с помощью алгоритмов, основанных на восстановлении плотности распределения.\n",
        "\n",
        "#### Эта ячейка может выполняться долго!"
      ]
    },
    {
      "cell_type": "code",
      "execution_count": null,
      "metadata": {
        "id": "BkFhvnhO3TIl"
      },
      "outputs": [],
      "source": [
        "from sklearn.metrics import silhouette_score, silhouette_samples\n",
        "\n",
        "def draw_sil_score(X, range_n_clusters=[2, 3, 4, 5, 6, 10, 12, 13, 20]):\n",
        "    scores = []\n",
        "    for n_clusters in tqdm(range_n_clusters):\n",
        "        clusterer = KMeans(n_clusters=n_clusters, random_state=10)\n",
        "        cluster_labels = clusterer.fit_predict(X)\n",
        "        silhouette_avg = silhouette_score(X, cluster_labels)\n",
        "        scores.append(silhouette_avg)\n",
        "    plt.plot(range_n_clusters, scores)\n",
        "    return range_n_clusters[np.argmax(scores)]"
      ]
    },
    {
      "cell_type": "code",
      "execution_count": null,
      "metadata": {
        "id": "qZXMiFpW3VVN",
        "tags": []
      },
      "outputs": [],
      "source": [
        "draw_sil_score(scaler.fit_transform(df), range(2, 30))"
      ]
    },
    {
      "cell_type": "markdown",
      "metadata": {
        "id": "DE6UbyzUb2hn"
      },
      "source": [
        "### 17. Выберите количество кластеров `k` по методам выше. Натренируйте kMeans и снова нарисуйте heatmap."
      ]
    },
    {
      "cell_type": "code",
      "execution_count": null,
      "metadata": {
        "id": "2Brw66Ylb2hn",
        "tags": []
      },
      "outputs": [],
      "source": [
        "###  Ваш код  ### "
      ]
    },
    {
      "cell_type": "markdown",
      "metadata": {
        "id": "EidQaCQOb2hp"
      },
      "source": [
        "### 18. Порекомендуйте что-нибудь абстрактному пользователю. \n",
        "Это можно сделать разными способами. Как это сделать подумайте сами. \n",
        "\n",
        "Если затрудняетесь реализовать это в коде, распишите словами как вы бы это сделали.\n",
        "\n",
        "Возможные варианты решения:\n",
        " * в каждом кластере отсортировать жанры по тому, насколько жанр важен. \n",
        " * взять каждый кластер -> получить все аниме, которые смотрят в этом кластере -> отсортировать по рейтину.\n",
        "\n"
      ]
    },
    {
      "cell_type": "code",
      "execution_count": null,
      "metadata": {
        "id": "X7bgVPgPb2hp"
      },
      "outputs": [],
      "source": [
        "###  Ваш код или рассуждение или все вместе ###"
      ]
    },
    {
      "cell_type": "markdown",
      "metadata": {
        "id": "nw_-BJfyb2hr"
      },
      "source": [
        "### Extra. Попробуйте как-нибудь улучшить эту рекомендашку. Приведите код или рассуждения на эту тему.\n",
        "\n",
        "Если писать код, то можно:\n",
        " * каждому жанру присвоить свой вес, так как одних жанров сильно много и у них разная смысловая нагрузка. Комедии и экшн встречаются очень часто и врядли кто-то только из-за этих жанров будет смотреть аниме.\n",
        " * предсказывать не по жанрам, а по аниме. Там получится очень большая размерность, так как нужно сделать one-hot-encoding по аниме, но может это даст лучше результат(спойлер: нет). (И для этого надо сделать 4 join'а, что, возможно, убьет ваш компьютер или/и мозг)"
      ]
    },
    {
      "cell_type": "code",
      "execution_count": null,
      "metadata": {
        "id": "bBNRaStcb2hs"
      },
      "outputs": [],
      "source": [
        "###  Ваш код или рассуждение или все вместе ### "
      ]
    }
  ],
  "metadata": {
    "colab": {
      "collapsed_sections": [],
      "name": "04-hw-clustering.ipynb",
      "provenance": []
    },
    "kernelspec": {
      "display_name": "Python 3",
      "language": "python",
      "name": "python3"
    },
    "language_info": {
      "codemirror_mode": {
        "name": "ipython",
        "version": 3
      },
      "file_extension": ".py",
      "mimetype": "text/x-python",
      "name": "python",
      "nbconvert_exporter": "python",
      "pygments_lexer": "ipython3",
      "version": "3.7.8-final"
    }
  },
  "nbformat": 4,
  "nbformat_minor": 0
}
