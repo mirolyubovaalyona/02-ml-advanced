{
  "nbformat": 4,
  "nbformat_minor": 0,
  "metadata": {
    "colab": {
      "name": "without_code03_hw_classification .ipynb",
      "provenance": [],
      "collapsed_sections": []
    },
    "kernelspec": {
      "display_name": "Python 3",
      "language": "python",
      "name": "python3"
    },
    "language_info": {
      "codemirror_mode": {
        "name": "ipython",
        "version": 3
      },
      "file_extension": ".py",
      "mimetype": "text/x-python",
      "name": "python",
      "nbconvert_exporter": "python",
      "pygments_lexer": "ipython3",
      "version": "3.7.1"
    }
  },
  "cells": [
    {
      "cell_type": "markdown",
      "metadata": {
        "colab_type": "text",
        "id": "6E3ZEkkwRk1J"
      },
      "source": [
        "# 6.1 Классификация.Соискатели\n",
        "\n",
        "1. Скачайте этот ноутбук к себе.\n",
        "2. Заполните пропущенные ячейки, отвечая на заданные вопросы. Там должен быть код! (если не сказано обратное)\n",
        "3. Отправьте результат нам\n",
        "\n",
        "### Полезная литература\n",
        "\n",
        "- [ODS - классификация](https://habrahabr.ru/company/ods/blog/322534/)\n",
        "- [Коллаборативная фильтрация - рекомендательная система](https://ru.wikipedia.org/wiki/%D0%9A%D0%BE%D0%BB%D0%BB%D0%B0%D0%B1%D0%BE%D1%80%D0%B0%D1%82%D0%B8%D0%B2%D0%BD%D0%B0%D1%8F_%D1%84%D0%B8%D0%BB%D1%8C%D1%82%D1%80%D0%B0%D1%86%D0%B8%D1%8F)\n",
        "- [Метрики расстояний - косинусная, минковского, проклятье размерности ](http://www.machinelearning.ru/wiki/images/9/9a/Sem1_knn.pdf)\n",
        "- [Offtop: метрики качества рекомендательных систем](https://habrahabr.ru/company/dca/blog/281066/)"
      ]
    },
    {
      "cell_type": "markdown",
      "metadata": {
        "colab_type": "text",
        "id": "2SjTJ7fkRk1N"
      },
      "source": [
        "## kNN - ближайшие соседи (15 баллов)\n",
        "\n",
        "Рассмотрим задачу из соревнования [Amazon Employee Access Challenge](https://www.kaggle.com/c/amazon-employee-access-challenge).\n",
        "\n",
        "В данной задаче предлагается предсказать, будет ли одобрен запрос сотрудника на получение доступа к тому или иному ресурсу. Все признаки являются категориальными."
      ]
    },
    {
      "cell_type": "code",
      "metadata": {
        "colab_type": "code",
        "id": "Pq1-n6enRk1Q",
        "colab": {}
      },
      "source": [
        "%matplotlib inline\n",
        "import pandas as pd\n",
        "import numpy as np\n",
        "from matplotlib import pyplot as plt\n",
        "import seaborn as sns\n",
        "from sklearn.model_selection import train_test_split, KFold, cross_val_score\n",
        "from sklearn.neighbors import KNeighborsClassifier\n",
        "from sklearn.metrics import classification_report, confusion_matrix, f1_score\n",
        "from sklearn.preprocessing import scale"
      ],
      "execution_count": null,
      "outputs": []
    },
    {
      "cell_type": "code",
      "metadata": {
        "id": "5KP6Njh-11dE",
        "colab_type": "code",
        "colab": {}
      },
      "source": [
        "from google.colab import drive\n",
        "drive.mount('/content/drive')"
      ],
      "execution_count": null,
      "outputs": []
    },
    {
      "cell_type": "code",
      "metadata": {
        "colab_type": "code",
        "id": "1dag_dZ9Rk1c",
        "colab": {
          "base_uri": "https://localhost:8080/",
          "height": 204
        },
        "outputId": "d68ee7d4-9b79-47a9-d255-d4e77dcf4532"
      },
      "source": [
        "df = pd.read_csv('/content/drive/My Drive/Data/amazon.csv.gz')\n",
        "df.head()\n",
        "# ACTION - это целевой признак"
      ],
      "execution_count": null,
      "outputs": [
        {
          "output_type": "execute_result",
          "data": {
            "text/html": [
              "<div>\n",
              "<style scoped>\n",
              "    .dataframe tbody tr th:only-of-type {\n",
              "        vertical-align: middle;\n",
              "    }\n",
              "\n",
              "    .dataframe tbody tr th {\n",
              "        vertical-align: top;\n",
              "    }\n",
              "\n",
              "    .dataframe thead th {\n",
              "        text-align: right;\n",
              "    }\n",
              "</style>\n",
              "<table border=\"1\" class=\"dataframe\">\n",
              "  <thead>\n",
              "    <tr style=\"text-align: right;\">\n",
              "      <th></th>\n",
              "      <th>ACTION</th>\n",
              "      <th>RESOURCE</th>\n",
              "      <th>MGR_ID</th>\n",
              "      <th>ROLE_ROLLUP_1</th>\n",
              "      <th>ROLE_ROLLUP_2</th>\n",
              "      <th>ROLE_DEPTNAME</th>\n",
              "      <th>ROLE_TITLE</th>\n",
              "      <th>ROLE_FAMILY_DESC</th>\n",
              "      <th>ROLE_FAMILY</th>\n",
              "      <th>ROLE_CODE</th>\n",
              "    </tr>\n",
              "  </thead>\n",
              "  <tbody>\n",
              "    <tr>\n",
              "      <th>0</th>\n",
              "      <td>1</td>\n",
              "      <td>39353</td>\n",
              "      <td>85475</td>\n",
              "      <td>117961</td>\n",
              "      <td>118300</td>\n",
              "      <td>123472</td>\n",
              "      <td>117905</td>\n",
              "      <td>117906</td>\n",
              "      <td>290919</td>\n",
              "      <td>117908</td>\n",
              "    </tr>\n",
              "    <tr>\n",
              "      <th>1</th>\n",
              "      <td>1</td>\n",
              "      <td>17183</td>\n",
              "      <td>1540</td>\n",
              "      <td>117961</td>\n",
              "      <td>118343</td>\n",
              "      <td>123125</td>\n",
              "      <td>118536</td>\n",
              "      <td>118536</td>\n",
              "      <td>308574</td>\n",
              "      <td>118539</td>\n",
              "    </tr>\n",
              "    <tr>\n",
              "      <th>2</th>\n",
              "      <td>1</td>\n",
              "      <td>36724</td>\n",
              "      <td>14457</td>\n",
              "      <td>118219</td>\n",
              "      <td>118220</td>\n",
              "      <td>117884</td>\n",
              "      <td>117879</td>\n",
              "      <td>267952</td>\n",
              "      <td>19721</td>\n",
              "      <td>117880</td>\n",
              "    </tr>\n",
              "    <tr>\n",
              "      <th>3</th>\n",
              "      <td>1</td>\n",
              "      <td>36135</td>\n",
              "      <td>5396</td>\n",
              "      <td>117961</td>\n",
              "      <td>118343</td>\n",
              "      <td>119993</td>\n",
              "      <td>118321</td>\n",
              "      <td>240983</td>\n",
              "      <td>290919</td>\n",
              "      <td>118322</td>\n",
              "    </tr>\n",
              "    <tr>\n",
              "      <th>4</th>\n",
              "      <td>1</td>\n",
              "      <td>42680</td>\n",
              "      <td>5905</td>\n",
              "      <td>117929</td>\n",
              "      <td>117930</td>\n",
              "      <td>119569</td>\n",
              "      <td>119323</td>\n",
              "      <td>123932</td>\n",
              "      <td>19793</td>\n",
              "      <td>119325</td>\n",
              "    </tr>\n",
              "  </tbody>\n",
              "</table>\n",
              "</div>"
            ],
            "text/plain": [
              "   ACTION  RESOURCE  MGR_ID  ...  ROLE_FAMILY_DESC  ROLE_FAMILY  ROLE_CODE\n",
              "0       1     39353   85475  ...            117906       290919     117908\n",
              "1       1     17183    1540  ...            118536       308574     118539\n",
              "2       1     36724   14457  ...            267952        19721     117880\n",
              "3       1     36135    5396  ...            240983       290919     118322\n",
              "4       1     42680    5905  ...            123932        19793     119325\n",
              "\n",
              "[5 rows x 10 columns]"
            ]
          },
          "metadata": {
            "tags": []
          },
          "execution_count": 5
        }
      ]
    },
    {
      "cell_type": "markdown",
      "metadata": {
        "colab_type": "text",
        "id": "PZ85weZTRk1n"
      },
      "source": [
        "Обратим внимание, что выборка не сбалансированная. В качестве метрики качества будем использовать [f1-score](https://en.wikipedia.org/wiki/F1_score). \n",
        "$$F_1 = 2 \\cdot \\frac{\\mathrm{precision} \\cdot \\mathrm{recall}}{\\mathrm{precision} + \\mathrm{recall}}$$\n",
        "\n",
        "$$precision = \\frac{TP}{TP+FP}$$\n",
        "\n",
        "$$recall = \\frac{TP}{TP+FN}$$"
      ]
    },
    {
      "cell_type": "code",
      "metadata": {
        "colab_type": "code",
        "id": "geYOEvR5Rk1p",
        "colab": {
          "base_uri": "https://localhost:8080/",
          "height": 313
        },
        "outputId": "a4750a51-1c7d-4a82-d931-c13a8931a061"
      },
      "source": [
        "print(df['ACTION'].mean())\n",
        "sns.countplot('ACTION', data=df)"
      ],
      "execution_count": null,
      "outputs": [
        {
          "output_type": "stream",
          "text": [
            "0.9421099209618847\n"
          ],
          "name": "stdout"
        },
        {
          "output_type": "execute_result",
          "data": {
            "text/plain": [
              "<matplotlib.axes._subplots.AxesSubplot at 0x7fb5a4341cf8>"
            ]
          },
          "metadata": {
            "tags": []
          },
          "execution_count": 5
        },
        {
          "output_type": "display_data",
          "data": {
            "image/png": "[encoded data removed]",
            "text/plain": [
              "<Figure size 432x288 with 1 Axes>"
            ]
          },
          "metadata": {
            "tags": [],
            "needs_background": "light"
          }
        }
      ]
    },
    {
      "cell_type": "code",
      "metadata": {
        "colab_type": "code",
        "id": "0esSU_9iRk1v",
        "colab": {
          "base_uri": "https://localhost:8080/",
          "height": 187
        },
        "outputId": "f97c558c-664a-4a65-b707-ff0e963cb3e3"
      },
      "source": [
        "# число значений у признаков\n",
        "for col_name in df.columns:\n",
        "    print(col_name, len(df[col_name].unique()))"
      ],
      "execution_count": null,
      "outputs": [
        {
          "output_type": "stream",
          "text": [
            "ACTION 2\n",
            "RESOURCE 7518\n",
            "MGR_ID 4243\n",
            "ROLE_ROLLUP_1 128\n",
            "ROLE_ROLLUP_2 177\n",
            "ROLE_DEPTNAME 449\n",
            "ROLE_TITLE 343\n",
            "ROLE_FAMILY_DESC 2358\n",
            "ROLE_FAMILY 67\n",
            "ROLE_CODE 343\n"
          ],
          "name": "stdout"
        }
      ]
    },
    {
      "cell_type": "code",
      "metadata": {
        "colab_type": "code",
        "id": "grv_l7aYRk12",
        "colab": {}
      },
      "source": [
        "X = df.drop(['ACTION'], axis=1)\n",
        "y = df['ACTION']\n",
        "X_train, X_test, y_train, y_test = train_test_split(X, y, random_state=42, test_size=0.8)"
      ],
      "execution_count": null,
      "outputs": []
    },
    {
      "cell_type": "markdown",
      "metadata": {
        "colab_type": "text",
        "id": "WF-Sqou3Rk19"
      },
      "source": [
        "# Baseline (4 балла)\n",
        "\n",
        "Сразу проверим как ведет себя kNN на неподготовленных данных и без тюнинга. Зафиксируйте `n_neighbors=5`, `p=2`. \n",
        "\n",
        "- создайте экземпляр `KNeighborsClassifier` с указанными параметрами, обучите его методом `fit` и предскажите значения `predict` для треничровчных данных `X_test`.\n",
        "- постройте отчет классификации (classification_report)\n",
        "- постройте confusion matrix и нарисуйте heatmap\n",
        "\n",
        "Обратите внимание на confusion matrix. Какой вывод вы можете сделать из неё? Вспомните лекцию и значение ошибок 1 и 2 рода."
      ]
    },
    {
      "cell_type": "code",
      "metadata": {
        "colab_type": "code",
        "id": "b0VOmw-gRk2B",
        "colab": {}
      },
      "source": [
        ""
      ],
      "execution_count": null,
      "outputs": []
    },
    {
      "cell_type": "markdown",
      "metadata": {
        "colab_type": "text",
        "id": "05W_1YtvRk2I"
      },
      "source": [
        "При фиксированном `n_neighbors=10` проверьте значение метрики на кроссвалидации на 5-фолдах для разных значений `p` из `(1,2,4,6)`. При каком значение `p` метрика достигает максимума?\n",
        "\n",
        "При кроссвалидации у вас будет получаться N разных значений метрики. Выводите среднее значение и стандартное отклонение."
      ]
    },
    {
      "cell_type": "code",
      "metadata": {
        "id": "eO5jV0YBuafJ",
        "colab_type": "code",
        "colab": {}
      },
      "source": [
        ""
      ],
      "execution_count": null,
      "outputs": []
    },
    {
      "cell_type": "markdown",
      "metadata": {
        "colab_type": "text",
        "id": "95FbhY1JRk2S"
      },
      "source": [
        "# Счетчики (6 баллов)\n",
        "\n",
        "Очевидно, что предсказывать лейбл объекта, используя при этом метрический алгоритм на категориальных признаках - это ОЧЕНЬ странная затея. Не удивительно что качество ужасное. Необходимо каким-то образом заменить категориальные признаки вещественными:\n",
        "\n",
        "- OneHotEncoding - это когда для каждого признака создают другие N бинарных признаков, где N - это количество категорий у категориального признака.\n",
        "- Счетчики - об это написано в статье http://blogs.technet.com/b/machinelearning/archive/2015/02/17/big-learning-made-easy-with-counts.aspx.\n",
        "\n",
        "Мы реализуем алгоритм Счетчиков. Его нет в sklearn, поэтому придется реализовать самому. \n",
        "\n",
        "Для каждого категориального признака создайте 3 других признака:\n",
        "1. Число `counts` объектов в обучающей выборке с таким же значением признака.\n",
        "2. Число `successes` объектов первого класса ($y = 1$) в обучающей выборке с таким же значением признака.\n",
        "3. Сглаженное отношение двух предыдущих величин: (`successes` + 1) / (`counts` + 2).\n",
        "\n",
        "Поскольку признаки, содержащие информацию о целевой переменной, могут привести к переобучению, может оказаться полезным сделать *фолдинг*: разбить обучающую выборку на $n$ частей, и для $i$-й части считать `counts` и `successes` по всем остальным частям. Для тестовой выборки используются счетчики, посчитанные по всей обучающей выборке. Реализуйте и такой вариант. Можно использовать $n = 3$.\n",
        "\n",
        "Обучение надо проводить только по новым признакам. Изначальные мы не используем.\n",
        "\n",
        "Счетчики нужно считать по `train`, а в `test` использовать эти же счетчики, иначе счетчики будут содержать информацию о всем датасете что приведет к переобучение!\n",
        "\n",
        "Подсказка - вам нужно для каждой колонки посчитать 2 аггрегации - сумму и количество. Для замены конкретного значения посчитанным используйте функцию apply над датафреймом. Простое решение займет около 10 строк кода."
      ]
    },
    {
      "cell_type": "markdown",
      "metadata": {
        "colab_type": "text",
        "id": "peoX3U3iRk2U"
      },
      "source": [
        "![](http://images6.fanpop.com/image/photos/38600000/taiga-iamyourenemy-38620719-282-160.gif)"
      ]
    },
    {
      "cell_type": "code",
      "metadata": {
        "id": "qNzXCuFDWIOm",
        "colab_type": "code",
        "colab": {}
      },
      "source": [
        "data = pd.DataFrame(index=df.index)\n",
        "for col_name in df.columns:\n",
        "    if col_name == 'ACTION':\n",
        "        continue\n",
        "    # ТУТ ВАШ КОД"
      ],
      "execution_count": null,
      "outputs": []
    },
    {
      "cell_type": "markdown",
      "metadata": {
        "colab_type": "text",
        "id": "_LI0_45SRk2b"
      },
      "source": [
        "Проверьте какое качество теперь получается на кроссвалидации для новых данных."
      ]
    },
    {
      "cell_type": "code",
      "metadata": {
        "id": "a2Z4fuXKIfqX",
        "colab_type": "code",
        "colab": {}
      },
      "source": [
        ""
      ],
      "execution_count": null,
      "outputs": []
    },
    {
      "cell_type": "markdown",
      "metadata": {
        "colab_type": "text",
        "id": "sLAn1dmIRk2j"
      },
      "source": [
        "- постройте отчет классификации (classification_report)\n",
        "- постройте confusion matrix и нарисуйте heatmap\n",
        "\n",
        "Оцените на сколько улучшилось качество."
      ]
    },
    {
      "cell_type": "markdown",
      "metadata": {
        "colab_type": "text",
        "id": "xr0h7eJeRk2s"
      },
      "source": [
        "# Co-co-co-combo (5 баллов)\n",
        "\n",
        "Добавьте в исходную выборку парные признаки — то есть для каждой пары $(f_i, f_j)$, $i < j$ исходных категориальных признаков добавьте новый категориальный признак $f_{ij}$, значение которого является конкатенацией значений $f_i$ и $f_j$ (желательно через какой-нибудь специальный символ во избежание коллизий). Посчитайте счетчики для этой выборки, найдите качество метода $k$ ближайших соседей с наилучшим $k$ (с фолдингом и без)."
      ]
    },
    {
      "cell_type": "code",
      "metadata": {
        "colab_type": "code",
        "id": "WX1unyFARk2t",
        "colab": {}
      },
      "source": [
        "df_combo = df.copy()\n",
        "# ТУТ ВАШ КОД"
      ],
      "execution_count": null,
      "outputs": []
    },
    {
      "cell_type": "code",
      "metadata": {
        "colab_type": "code",
        "id": "otoeCnjIRk2z",
        "colab": {}
      },
      "source": [
        "data_combo = pd.DataFrame(index=df_combo.index)\n",
        "for col_name in df_combo.columns:\n",
        "    if col_name == 'ACTION':\n",
        "        continue\n",
        "    # тут ваш код"
      ],
      "execution_count": null,
      "outputs": []
    },
    {
      "cell_type": "markdown",
      "metadata": {
        "colab_type": "text",
        "id": "jNGOU4pBRk24"
      },
      "source": [
        "- постройте отчет классификации (classification_report)\n",
        "- постройте confusion matrix и нарисуйте heatmap\n",
        "\n",
        "Оцените на сколько улучшилось качество. Не похоже ли это на переобусение?\n",
        "\n",
        "Внимание! Обучение на этом этапе может быть долгим. На i5 16GB кроссвалидация на 5 фолдах заняла 30 минут!"
      ]
    },
    {
      "cell_type": "markdown",
      "metadata": {
        "id": "YfXcVDbhjQLC",
        "colab_type": "text"
      },
      "source": [
        "# Target encoding\n",
        "Допустим, у нас есть категоральный признак х и целевой у; нужно сгруппировать значения признака х по значениям признака у и посчитать среднее. Затем все значения из х заменяем на среднее по соответствующему у.\n",
        "\n",
        "\n",
        "Подробнее написано в статье: https://maxhalford.github.io/blog/target-encoding/\n"
      ]
    },
    {
      "cell_type": "code",
      "metadata": {
        "id": "DDUvy30ldaKK",
        "colab_type": "code",
        "colab": {}
      },
      "source": [
        "df_target = df.copy()"
      ],
      "execution_count": null,
      "outputs": []
    },
    {
      "cell_type": "code",
      "metadata": {
        "id": "S9BBzsGdWyJ1",
        "colab_type": "code",
        "colab": {}
      },
      "source": [
        "data_target = pd.DataFrame(index=df_target.index)\n",
        "for col_name in df_target.columns:\n",
        "    if col_name == 'ACTION':\n",
        "        continue\n",
        "    # тут ваш код"
      ],
      "execution_count": null,
      "outputs": []
    },
    {
      "cell_type": "markdown",
      "metadata": {
        "id": "XT2_pUdiiaVk",
        "colab_type": "text"
      },
      "source": [
        "Сравните результаты. \n",
        "\n",
        "Какой недостаток есть у target encoding?\n",
        "\n"
      ]
    }
  ]
}