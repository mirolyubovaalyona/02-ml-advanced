{
 "cells": [
  {
   "cell_type": "markdown",
   "metadata": {},
   "source": [
    "# Workshop 8. Наивный Байес и Классификация текстов\n",
    "\n",
    "> Байесовские алгоритмы для классификации текстов  \n",
    "> Извлечение признаков из текста\n",
    "\n",
    "1. Скачайте этот ноутбук к себе.\n",
    "2. Заполните пропущенные ячейки, отвечая на заданные вопросы. Там должен быть код! (если не сказано обратное)\n",
    "3. Сохраните результат в своём гитхаб репозитории.\n",
    "\n",
    "### Полезная литература\n",
    "\n",
    "- [Naive Bayes and Text Classification](https://sebastianraschka.com/Articles/2014_naive_bayes_1.html)\n",
    "- [ODS - классификация](https://habrahabr.ru/company/ods/blog/322534/)\n",
    "- [Байесовский классификатор](http://www.machinelearning.ru/wiki/index.php?title=%D0%91%D0%B0%D0%B9%D0%B5%D1%81%D0%BE%D0%B2%D1%81%D0%BA%D0%B8%D0%B9_%D0%BA%D0%BB%D0%B0%D1%81%D1%81%D0%B8%D1%84%D0%B8%D0%BA%D0%B0%D1%82%D0%BE%D1%80)\n",
    "- [Интересная статья про спам/не спам](https://habrahabr.ru/post/252265/)\n",
    "\n",
    "Если вам понравилась задача распознавания текстов, то вот подборочка:\n",
    "\n",
    "- [библиотека Gensim](https://radimrehurek.com/gensim/)\n",
    "- [библиотека nltk](http://www.nltk.org/)\n",
    "- [Лекция про word2vec 🔥](https://www.youtube.com/watch?v=oBb9aFmp0Hs)\n",
    "- [Лекция Векторные представления слов и документов 🔥](https://www.youtube.com/watch?v=hiDBnEyoZS4)"
   ]
  },
  {
   "cell_type": "markdown",
   "metadata": {},
   "source": [
    "## Наивный байесовский классификатор\n",
    "\n",
    "На практике мы использовали его для детекции спам/не спам. В этот раз вы будете классифицировать [новостные тексты](https://scikit-learn.org/0.19/datasets/twenty_newsgroups.html). Попробуете разные методы  генерации признаков из текстов."
   ]
  },
  {
   "cell_type": "code",
   "execution_count": 103,
   "metadata": {},
   "outputs": [
    {
     "data": {
      "text/plain": [
       "['alt.atheism',\n",
       " 'comp.graphics',\n",
       " 'comp.os.ms-windows.misc',\n",
       " 'comp.sys.ibm.pc.hardware',\n",
       " 'comp.sys.mac.hardware',\n",
       " 'comp.windows.x',\n",
       " 'misc.forsale',\n",
       " 'rec.autos',\n",
       " 'rec.motorcycles',\n",
       " 'rec.sport.baseball',\n",
       " 'rec.sport.hockey',\n",
       " 'sci.crypt',\n",
       " 'sci.electronics',\n",
       " 'sci.med',\n",
       " 'sci.space',\n",
       " 'soc.religion.christian',\n",
       " 'talk.politics.guns',\n",
       " 'talk.politics.mideast',\n",
       " 'talk.politics.misc',\n",
       " 'talk.religion.misc']"
      ]
     },
     "execution_count": 103,
     "metadata": {},
     "output_type": "execute_result"
    }
   ],
   "source": [
    "from sklearn.datasets import fetch_20newsgroups\n",
    "newsgroups_train = fetch_20newsgroups(subset='train', remove=('headers', 'footers', 'quotes'))\n",
    "newsgroups_train.target_names"
   ]
  },
  {
   "cell_type": "markdown",
   "metadata": {},
   "source": [
    "### 2.1 Загрузка данных (2 балла)\n",
    "\n",
    "Мы будем использовать только 4 класса текстов: `'alt.atheism', 'sci.space', 'talk.religion.misc', 'comp.graphics'`.\n",
    "\n",
    "Загрузите тренировочную и тестовую части датасета для этих категорий."
   ]
  },
  {
   "cell_type": "code",
   "execution_count": null,
   "metadata": {},
   "outputs": [],
   "source": []
  },
  {
   "cell_type": "markdown",
   "metadata": {},
   "source": [
    "Выведите по 1 тексту для каждой из категории."
   ]
  },
  {
   "cell_type": "code",
   "execution_count": null,
   "metadata": {
    "scrolled": true
   },
   "outputs": [],
   "source": []
  },
  {
   "cell_type": "code",
   "execution_count": null,
   "metadata": {},
   "outputs": [],
   "source": []
  },
  {
   "cell_type": "markdown",
   "metadata": {},
   "source": [
    "### 2.2 Мешок слов\n",
    "\n",
    "Начнем с самого простого способа извлечения признаков из текстов: обычный подсчет количества употреблений слов в тексте.\n",
    "\n",
    "Для этого используем [sklearn.feature_extraction.text.CountVectorizer](http://scikit-learn.org/stable/modules/generated/sklearn.feature_extraction.text.CountVectorizer.html). Настройте его так, чтобы он использовал англиские стоп слова.\n",
    "\n",
    "Проведите трансформаци текстов из обоих датасетов и выведите размер полученного словаря. (1 векторайзер для тестового и тренировочного датасета! У вас должны получиться матрицы с одинаковыми признаками-словами)"
   ]
  },
  {
   "cell_type": "code",
   "execution_count": null,
   "metadata": {},
   "outputs": [],
   "source": []
  },
  {
   "cell_type": "markdown",
   "metadata": {},
   "source": [
    "Будем использовать классифиактор для мультиклассифкации [sklearn.naive_bayes.MultinomialNB]().\n",
    "\n",
    "- Проведите кроссвалидацию на 5 фолдах для метрики `accuracy`.\n",
    "- обучите на тренировочных данных, \n",
    "- нарисуйте красивую confusion матрицу, (с именами классов, а не индексами по осям)\n",
    "- выведите отчет классификации для тестовой выборки (с именами классов, а не индексами)"
   ]
  },
  {
   "cell_type": "code",
   "execution_count": null,
   "metadata": {},
   "outputs": [],
   "source": []
  },
  {
   "cell_type": "code",
   "execution_count": null,
   "metadata": {},
   "outputs": [],
   "source": []
  },
  {
   "cell_type": "code",
   "execution_count": null,
   "metadata": {},
   "outputs": [],
   "source": []
  },
  {
   "cell_type": "code",
   "execution_count": 6,
   "metadata": {},
   "outputs": [],
   "source": [
    "# Посмотрим на ТОП 10 по важности слова в каждой категории\n",
    "\n",
    "def show_top10(classifier, vectorizer, categories):\n",
    "    feature_names = np.asarray(vectorizer.get_feature_names())\n",
    "    for i, category in enumerate(categories):\n",
    "        top10 = np.argsort(classifier.coef_[i])[-10:]\n",
    "        print(\"%s: [%s]\" % (category, \" \".join(feature_names[top10])))\n",
    "\n",
    "show_top10(clf, vec, newsgroups_train.target_names)"
   ]
  },
  {
   "cell_type": "markdown",
   "metadata": {},
   "source": [
    "### 2.3 [Tf-IDF](https://ru.wikipedia.org/wiki/TF-IDF)\n",
    "\n",
    "Мешок слов не учитывает \"веса\" слов, он просто смотрит их вхождение в документ. Вероятно, было бы полезно взвесить каким-то обраом каждое слово в документе. Действительно, если слово встречается во всех документах, то, наверное, его вес небольшой. А если редкое слово встречается в некоторых документах, то скорее всего оно какое-то узко тематическое.\n",
    "\n",
    "Один из способов взвесить слова - это использовать меру tf-idf, где:\n",
    "\n",
    "**TF - term frequency** - частота слова для каждой статьи\n",
    "\n",
    "$$\\LARGE \\mathrm{tf}(t,d) = \\frac{n_t}{\\sum_k n_k}$$\n",
    "\n",
    "**IDF - inverse document frequency*** — обратная частота документа - уменьшает вес часто встречаемых слов\n",
    "\n",
    "$$\\LARGE \\mathrm{idf}(t, D) =  \\log \\frac{|D|}{|\\{\\,d_i \\in D \\mid t \\in d_{i}\\, \\}|}$$\n",
    "\n",
    "$D$ - число документов в корпусе\n",
    "\n",
    "$|\\{\\,d_i \\in D \\mid t \\in d_{i}\\, \\}|$ - число документов из коллекции ${\\displaystyle D}$ , в которых встречается ${\\displaystyle t}$  (когда ${\\displaystyle n_{t}\\neq 0}$ ).\n",
    "\n",
    "**TF-IDF**\n",
    "\n",
    "$$\\LARGE \\operatorname{tf-idf}(t,d,D) = \\operatorname{tf}(t,d) \\times \\operatorname{idf}(t, D)$$\n",
    "\n",
    "\n",
    "Для него есть класс [sklearn.feature_extraction.text.TfidfVectorizer](http://scikit-learn.org/stable/modules/generated/sklearn.feature_extraction.text.TfidfVectorizer.html)"
   ]
  },
  {
   "cell_type": "markdown",
   "metadata": {},
   "source": [
    "- Проведите кроссвалидацию на 5 фолдах для метрики `accuracy`.\n",
    "- обучите на тренировочных данных, \n",
    "- нарисуйте красивую confusion матрицу, (с именами классов, а не индексами по осям)\n",
    "- выведите отчет классификации для тестовой выборки (с именами классов, а не индексами)"
   ]
  },
  {
   "cell_type": "code",
   "execution_count": null,
   "metadata": {},
   "outputs": [],
   "source": []
  },
  {
   "cell_type": "code",
   "execution_count": null,
   "metadata": {},
   "outputs": [],
   "source": []
  },
  {
   "cell_type": "code",
   "execution_count": null,
   "metadata": {},
   "outputs": [],
   "source": []
  },
  {
   "cell_type": "code",
   "execution_count": 8,
   "metadata": {},
   "outputs": [],
   "source": [
    "show_top10(clf, vec, newsgroups_train.target_names)"
   ]
  },
  {
   "cell_type": "markdown",
   "metadata": {},
   "source": [
    "### 2.4 В чём проблема?\n",
    "\n",
    "Как вы заметили, качество немного улучшилось. Как вы думаете почему у нас до сих пор есть ошибки? В чём проблема? Опирайтесь на вывод топа 10 важных слов, confusion matrix и репорт классификации.\n",
    "\n",
    "**Задание**: Напишите развернутое рассуждение."
   ]
  },
  {
   "cell_type": "markdown",
   "metadata": {},
   "source": [
    "Ответ: ???"
   ]
  },
  {
   "cell_type": "markdown",
   "metadata": {},
   "source": [
    "![](https://i.imgur.com/3D5pgrk.png)"
   ]
  },
  {
   "cell_type": "markdown",
   "metadata": {},
   "source": [
    "Можно еще немного улучшить качество предсказания, если использовть n-граммы, то есть не только одиночные слова, но и пары, тройки. Для этого у векторайзера есть параметр `ngram_range`, но будьте осторожны, сгенерируется очень много признаков. Их количество можно ограничить  `max_features`. Ещё можно копать в сторону правильного процессинга текстов: лемматизация и стемминг, чтобы убирать окончания, но это обчно не сильно помогает в английском языке.\n",
    "\n",
    "Кроме того можно было бы пойти совсем в другую сторону и использовать word-2-vec технологии, тогда бы у нас слова начал \"обретать\" смысл. Но это вовсем другая история."
   ]
  }
 ],
 "metadata": {
  "kernelspec": {
   "display_name": "Python 3",
   "language": "python",
   "name": "python3"
  },
  "language_info": {
   "codemirror_mode": {
    "name": "ipython",
    "version": 3
   },
   "file_extension": ".py",
   "mimetype": "text/x-python",
   "name": "python",
   "nbconvert_exporter": "python",
   "pygments_lexer": "ipython3",
   "version": "3.8.5"
  }
 },
 "nbformat": 4,
 "nbformat_minor": 2
}
